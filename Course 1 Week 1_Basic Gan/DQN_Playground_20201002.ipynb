{
  "nbformat": 4,
  "nbformat_minor": 0,
  "metadata": {
    "colab": {
      "name": "DQN_20201002.ipynb",
      "provenance": [],
      "authorship_tag": "ABX9TyORKfZFzPt6dkbKD2YMAt3W",
      "include_colab_link": true
    },
    "kernelspec": {
      "name": "python3",
      "display_name": "Python 3"
    }
  },
  "cells": [
    {
      "cell_type": "markdown",
      "metadata": {
        "id": "view-in-github",
        "colab_type": "text"
      },
      "source": [
        "<a href=\"https://colab.research.google.com/github/FranklinMa810/GAN/blob/master/DQN_Playground_20201002.ipynb\" target=\"_parent\"><img src=\"https://colab.research.google.com/assets/colab-badge.svg\" alt=\"Open In Colab\"/></a>"
      ]
    },
    {
      "cell_type": "code",
      "metadata": {
        "id": "pacwZs1ul96O"
      },
      "source": [
        "import tensorflow as tf\n",
        "from keras.models import Sequential\n",
        "from keras.layers import Dense, Dropout, Conv2D, MaxPooling2D, Activation, Flatten\n",
        "from keras.optimizers import Adam"
      ],
      "execution_count": 2,
      "outputs": []
    },
    {
      "cell_type": "code",
      "metadata": {
        "id": "cBavOCX2mqfS",
        "outputId": "7580854b-c11e-416e-8cc6-1b4ec53fde81",
        "colab": {
          "base_uri": "https://localhost:8080/",
          "height": 52
        }
      },
      "source": [
        "print(tf.__version__)\n",
        "print(tf.keras.__version__)"
      ],
      "execution_count": 4,
      "outputs": [
        {
          "output_type": "stream",
          "text": [
            "2.3.0\n",
            "2.4.0\n"
          ],
          "name": "stdout"
        }
      ]
    },
    {
      "cell_type": "code",
      "metadata": {
        "id": "xbnOi8VLm4Ly"
      },
      "source": [
        "class DQNAgent:\n",
        "  def __init__(self):\n",
        "    # the main model\n",
        "    self.model = self.create_model()\n",
        "    # the target model\n",
        "\n",
        "\n",
        "  def create_model(self):\n",
        "    model = Sequential()\n",
        "    model.add(Conv2D(256,(3,3), input_shape = env.OBSERVATION_SPACE_VAL)\n",
        "    model.add(Activation(\"relu\"))\n",
        "    model.add(MaxPooling2D(pool_size = (2, 2)))\n",
        "    model.add(Dropout(0.2))\n",
        "\n",
        "    model.add(Conv2D(256,(3,3), input_shape = env.OBSERVATION_SPACE_VAL)\n",
        "    model.add(Activation(\"relu\"))\n",
        "    model.add(MaxPooling2D(pool_size = (2, 2)))\n",
        "    model.add(Dropout(0.2))\n",
        "\n",
        "    model.add(Flatten())\n",
        "    model.add(Dense(64))\n",
        "\n",
        "    model.add(Dense(env.ACTION_SPACE_SIZE, activation= \"linear\")\n",
        "    model.compile(loss='mse',optimizer=Adam(learning_rate=0.001), metrics='accuracy')\n",
        "    "
      ],
      "execution_count": null,
      "outputs": []
    },
    {
      "cell_type": "code",
      "metadata": {
        "id": "RmsH15KArT2C",
        "outputId": "e41a5ce5-cecf-44f1-b3e5-a0671f395264",
        "colab": {
          "base_uri": "https://localhost:8080/",
          "height": 34
        }
      },
      "source": [
        "model.compile"
      ],
      "execution_count": 7,
      "outputs": [
        {
          "output_type": "stream",
          "text": [
            "Object `model.compile` not found.\n"
          ],
          "name": "stdout"
        }
      ]
    },
    {
      "cell_type": "code",
      "metadata": {
        "id": "yh_ifwwArVwR"
      },
      "source": [
        ""
      ],
      "execution_count": null,
      "outputs": []
    }
  ]
}